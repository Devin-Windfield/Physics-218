{
 "cells": [
  {
   "cell_type": "code",
   "execution_count": 29,
   "metadata": {},
   "outputs": [
    {
     "name": "stdout",
     "output_type": "stream",
     "text": [
      "Work: 3102.34 +/- 11.41 joules\n",
      "Heat: 712.09 +/- 7.07 joules\n",
      "Joules: 4.35 +/- 0.04 Joules per calorie\n"
     ]
    }
   ],
   "source": [
    "import math as m\n",
    "\n",
    "#this takes a number a and then rounds it to a decimal place\n",
    "def trun (a):\n",
    "    return (a // 0.01) / 100\n",
    "    \n",
    "tempstart = 12.6\n",
    "tempfinal = 29\n",
    "errtemp = 0.1\n",
    "errdtemp = m.sqrt(errtemp**2*2)\n",
    "\n",
    "mwheel = 202.9 / 1000\n",
    "mbucket = 6.355\n",
    "errm = 0.001\n",
    "\n",
    "radius = 48/2000\n",
    "err_r = .05/1000\n",
    "\n",
    "n = 330\n",
    "errn = 1\n",
    "\n",
    "al_specific_heat = 214\n",
    "\n",
    "work = mbucket * 9.81 * radius * 2 * m.pi * n\n",
    "errwork = work * m.sqrt((errm/mbucket)**2 + (err_r/radius)**2 + (errn/n)**2)\n",
    "\n",
    "heat = mwheel * al_specific_heat * (tempfinal-tempstart)\n",
    "errheat = heat * m.sqrt((errm/mwheel)**2 + (errdtemp/(tempfinal-tempstart))**2)\n",
    "\n",
    "joules = work / heat\n",
    "errjoules = joules * m.sqrt((errwork/work)**2 + (errheat/heat)**2)\n",
    "\n",
    "\n",
    "print ('Work:' ,trun(work), '+/-', trun(errwork), 'joules')\n",
    "print ('Heat:' ,trun(heat), '+/-', trun(errheat), 'joules')\n",
    "print ('Joules:' ,trun(joules), '+/-', trun(errjoules), 'Joules per calorie')"
   ]
  },
  {
   "cell_type": "code",
   "execution_count": null,
   "metadata": {},
   "outputs": [],
   "source": []
  }
 ],
 "metadata": {
  "kernelspec": {
   "display_name": "Python 3",
   "language": "python",
   "name": "python3"
  },
  "language_info": {
   "codemirror_mode": {
    "name": "ipython",
    "version": 3
   },
   "file_extension": ".py",
   "mimetype": "text/x-python",
   "name": "python",
   "nbconvert_exporter": "python",
   "pygments_lexer": "ipython3",
   "version": "3.8.3"
  }
 },
 "nbformat": 4,
 "nbformat_minor": 4
}
