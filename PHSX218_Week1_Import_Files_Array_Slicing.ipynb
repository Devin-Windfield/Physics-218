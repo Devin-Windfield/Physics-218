{
 "cells": [
  {
   "cell_type": "markdown",
   "metadata": {},
   "source": [
    "## Importing files using numpy's genfromtxt() and how to index and slice arrays"
   ]
  },
  {
   "cell_type": "markdown",
   "metadata": {},
   "source": [
    "This week we'll learn how to import files which is very handy if you have large data sets.  It's even handy if you don't want have to type in all of your data by hand if you've done your data taking in a text file for example.\n",
    "Once the data is imported into an array (generally a 2D array), we'll learn how to grab the data we want to assign to our x and y variables for plotting.\n",
    "\n",
    "Everyone download and open up the PHSX218_Week1 Jupyter notebook from Moodle or a Google Colab so that you can be ready to do some array work here in a bit."
   ]
  },
  {
   "cell_type": "code",
   "execution_count": 22,
   "metadata": {},
   "outputs": [
    {
     "name": "stdout",
     "output_type": "stream",
     "text": [
      "2\n",
      "[1 2]\n"
     ]
    }
   ],
   "source": [
    "import numpy as np\n",
    "import matplotlib.pyplot as plt\n",
    "\n",
    "#Create a couple simple arrays\n",
    "#1D array\n",
    "arr1 = np.array([2,4,5,6,8])\n",
    "#2D array\n",
    "arr2 = np.array([[1,2],[2,3],[6,8],[7,9]])\n",
    "\n",
    "#Draw on board to show 2D array and indices [row,col]\n",
    "\n",
    "#Indexing starts at 0, so the first element in an array is the zeroth\n",
    "\n",
    "print(arr1[0])\n",
    "print(arr2[0])"
   ]
  },
  {
   "cell_type": "markdown",
   "metadata": {},
   "source": [
    "Slicing means to grab portions of the array based on what you need.\n",
    "\n",
    "1. a[start:stop]  # items start through stop-1\n",
    "2. a[start:]      # items start through the rest of the array\n",
    "3. a[:stop]       # items from the beginning through stop-1\n",
    "4. a[:]           # a copy of the whole array\n",
    "\n",
    "\n",
    "The key point to remember is that the :stop value represents the first value that is not in the selected slice. So, the difference between stop and start is the number of elements selected.\n",
    "\n",
    "We will not be covering \"advanced\" slicing techniques"
   ]
  },
  {
   "cell_type": "code",
   "execution_count": 23,
   "metadata": {},
   "outputs": [
    {
     "name": "stdout",
     "output_type": "stream",
     "text": [
      "[2 4 5]\n",
      "[[2 3]\n",
      " [6 8]]\n"
     ]
    }
   ],
   "source": [
    "x = arr1[0:3]\n",
    "print(x)\n",
    "y = arr2[1:3]\n",
    "print (y)"
   ]
  },
  {
   "cell_type": "code",
   "execution_count": 24,
   "metadata": {},
   "outputs": [
    {
     "data": {
      "text/plain": [
       "array([2, 3])"
      ]
     },
     "execution_count": 24,
     "metadata": {},
     "output_type": "execute_result"
    }
   ],
   "source": [
    "#We don't have to use print statements or assign to variables if \n",
    "#we just want to look at some slices\n",
    "arr2[1]"
   ]
  },
  {
   "cell_type": "code",
   "execution_count": 25,
   "metadata": {},
   "outputs": [
    {
     "data": {
      "text/plain": [
       "array([[1, 2],\n",
       "       [2, 3],\n",
       "       [6, 8]])"
      ]
     },
     "execution_count": 25,
     "metadata": {},
     "output_type": "execute_result"
    }
   ],
   "source": [
    "arr2[:3]"
   ]
  },
  {
   "cell_type": "markdown",
   "metadata": {},
   "source": [
    "In a 2D array, the indices are [row,col]  Let's look at my drawing on the whiteboard."
   ]
  },
  {
   "cell_type": "markdown",
   "metadata": {},
   "source": [
    "So then if we want to grab the entire first column of data, we can do the following:"
   ]
  },
  {
   "cell_type": "code",
   "execution_count": 26,
   "metadata": {},
   "outputs": [
    {
     "name": "stdout",
     "output_type": "stream",
     "text": [
      "[1 2 6 7]\n"
     ]
    }
   ],
   "source": [
    "x = arr2[:,0] #: for all the rows, and 0 for the zeroth column only\n",
    "print (x)"
   ]
  },
  {
   "cell_type": "markdown",
   "metadata": {},
   "source": [
    "### Head to the breakout rooms for about 5 minutes to work on the following and then we'll come back \n",
    "1. With the 2D array, assign the first column of data to a variable x, and assign the second column of data to a variable y. Print out your results\n",
    "2. With the 2D array, assign the first two rows of the first column of data to a variable z and print out result. (your result should be [1,2])"
   ]
  },
  {
   "cell_type": "code",
   "execution_count": 27,
   "metadata": {},
   "outputs": [
    {
     "name": "stdout",
     "output_type": "stream",
     "text": [
      "[1 2 6 7] [2 3 8 9]\n",
      "[1 2]\n"
     ]
    }
   ],
   "source": [
    "import numpy as np\n",
    "\n",
    "x = np.array([1,2,6,7])\n",
    "y = np.array([2,3,8,9])\n",
    "print (x,y)\n",
    "\n",
    "z = x[0:2]\n",
    "print (z)"
   ]
  },
  {
   "cell_type": "markdown",
   "metadata": {},
   "source": [
    "#### Let's look at importing data files and doing some plotting and analysis.  To do this we'll use Numpy's genfromtxt function.  There are a lot of options available with genfromtxt as shown in the API (Application Progamming Interface) below, which can make it seem really confusing at first, so we're going to keep it simple!"
   ]
  },
  {
   "cell_type": "markdown",
   "metadata": {},
   "source": [
    "numpy.genfromtxt(fname, dtype=<class 'float'>, comments='#', delimiter=None, skip_header=0, skip_footer=0, converters=None, missing_values=None, filling_values=None, usecols=None, names=None, excludelist=None, deletechars=\" !#$%&'()*+, -./:;<=>?@[]^{|}~\", replace_space='_', autostrip=False, case_sensitive=True, defaultfmt='f%i', unpack=None, usemask=False, loose=True, invalid_raise=True, max_rows=None, encoding='bytes')"
   ]
  },
  {
   "cell_type": "markdown",
   "metadata": {},
   "source": [
    "Satellites in low Earth orbit (LEO) operate between 250 and 1500 km above the ground. Because Earth's atmosphere extends hundreds of miles into space, LEOs eventually experience enough friction that they fall back to Earth and burn up. The accompanying text files gives the number of low Earth orbit satellites that reentered the Earth's atmosphere and the number of sunspots for each year since 1969. Graph the number of reentered satellites vs. the number of sunspots. Source: NASA Goddard Space Flight Center.\n",
    "\n",
    "\n",
    "Look first at satellite-failures.txt file.  "
   ]
  },
  {
   "cell_type": "code",
   "execution_count": 32,
   "metadata": {
    "scrolled": true
   },
   "outputs": [
    {
     "name": "stdout",
     "output_type": "stream",
     "text": [
      "[[105.  26.]\n",
      " [107.  25.]\n",
      " [ 66.  19.]\n",
      " [ 67.  12.]\n",
      " [ 37.  14.]\n",
      " [ 32.  21.]\n",
      " [ 14.  15.]\n",
      " [ 12.  16.]\n",
      " [ 26.  18.]\n",
      " [ 87.  33.]\n",
      " [145.  42.]\n",
      " [149.  41.]\n",
      " [146.  32.]\n",
      " [115.  19.]\n",
      " [ 65.  28.]\n",
      " [ 43.  14.]\n",
      " [ 16.  17.]\n",
      " [ 11.  16.]\n",
      " [ 29.  13.]\n",
      " [101.  33.]\n",
      " [162.  45.]\n",
      " [145.  30.]\n",
      " [144.  40.]\n",
      " [ 93.  41.]\n",
      " [ 54.  28.]\n",
      " [ 31.  17.]\n",
      " [ 18.  20.]\n",
      " [  8.  22.]\n",
      " [ 20.  21.]\n",
      " [ 62.  30.]\n",
      " [ 96.  25.]\n",
      " [124.  37.]\n",
      " [123.  41.]\n",
      " [109.  38.]\n",
      " [ 66.  31.]\n",
      " [ 43.  19.]]\n"
     ]
    }
   ],
   "source": [
    "file = \"satellite-failures.txt\"\n",
    "data = np.genfromtxt(file,skip_header=1,usecols=(1,2))\n",
    "\n",
    "print(data)"
   ]
  },
  {
   "cell_type": "code",
   "execution_count": 33,
   "metadata": {},
   "outputs": [
    {
     "name": "stdout",
     "output_type": "stream",
     "text": [
      "(36, 2)\n",
      "sunspots [105. 107.  66.  67.  37.  32.  14.  12.  26.  87. 145. 149. 146. 115.\n",
      "  65.  43.  16.  11.  29. 101. 162. 145. 144.  93.  54.  31.  18.   8.\n",
      "  20.  62.  96. 124. 123. 109.  66.  43.] \n",
      "\n",
      "satellites [26. 25. 19. 12. 14. 21. 15. 16. 18. 33. 42. 41. 32. 19. 28. 14. 17. 16.\n",
      " 13. 33. 45. 30. 40. 41. 28. 17. 20. 22. 21. 30. 25. 37. 41. 38. 31. 19.]\n"
     ]
    }
   ],
   "source": [
    "# how big is the array?  (rows,cols) will be returned\n",
    "print (data.shape)\n",
    "\n",
    "#I want to select every row (:), but only those\n",
    "#whose second index is 0. This gives us the first column\n",
    "sunspots = data[:,0]\n",
    "\n",
    "#I want to select every row, but only the second thing in each\n",
    "#row, giving us our satellites data\n",
    "satellites = data[:,1]\n",
    "\n",
    "print ('sunspots',sunspots,'\\n')\n",
    "print ('satellites',satellites)\n",
    "\n"
   ]
  },
  {
   "cell_type": "code",
   "execution_count": 34,
   "metadata": {},
   "outputs": [
    {
     "name": "stdout",
     "output_type": "stream",
     "text": [
      "13.95200407726704 0.1635072456826605\n"
     ]
    },
    {
     "data": {
      "text/plain": [
       "[<matplotlib.lines.Line2D at 0x2cfd75ddac0>]"
      ]
     },
     "execution_count": 34,
     "metadata": {},
     "output_type": "execute_result"
    },
    {
     "data": {
      "image/png": "[encoded data removed]",
      "text/plain": [
       "<Figure size 432x288 with 1 Axes>"
      ]
     },
     "metadata": {
      "needs_background": "light"
     },
     "output_type": "display_data"
    }
   ],
   "source": [
    "intercept, slope = np.polynomial.polynomial.polyfit(sunspots,satellites,1)\n",
    "\n",
    "print(intercept,slope)\n",
    "\n",
    "#create best fit line's x and y points\n",
    "x = np.linspace(0,160)\n",
    "\n",
    "#best fit line\n",
    "y = slope*x + intercept\n",
    "\n",
    "\n",
    "plt.xlabel(\"# of Sunspots in a year\")\n",
    "plt.ylabel(\"# of Satellites re-entering in a year\")\n",
    "plt.title(\"Satellites burning up vs sunspot count\")\n",
    "plt.scatter(sunspots,satellites,color=\"purple\")\n",
    "plt.plot(x,y)"
   ]
  },
  {
   "cell_type": "markdown",
   "metadata": {},
   "source": [
    "### Predict how many satellites would burn up if there were 400 sunspots in a year."
   ]
  },
  {
   "cell_type": "code",
   "execution_count": 20,
   "metadata": {},
   "outputs": [
    {
     "ename": "SyntaxError",
     "evalue": "invalid syntax (<ipython-input-20-be52275cbc90>, line 1)",
     "output_type": "error",
     "traceback": [
      "\u001b[1;36m  File \u001b[1;32m\"<ipython-input-20-be52275cbc90>\"\u001b[1;36m, line \u001b[1;32m1\u001b[0m\n\u001b[1;33m    Approximately 70 satellites\u001b[0m\n\u001b[1;37m                  ^\u001b[0m\n\u001b[1;31mSyntaxError\u001b[0m\u001b[1;31m:\u001b[0m invalid syntax\n"
     ]
    }
   ],
   "source": [
    "Approximately 70 satellites"
   ]
  },
  {
   "cell_type": "markdown",
   "metadata": {},
   "source": [
    "### Lab Assignment\n",
    "Mauna Loa Observatory on the \"Big Island\" of Hawaii has been recording atmospheric carbon dioxide concentrations for nearly half a century beginning in the year 1958. Readings are taken continuously, but only the monthly averages are reported. Values are reported in parts per million (ppm) Construct a graph of atmospheric CO2 concentration vs. time. What two obvious behaviors are revealed in your graph? Split the data set in half, make two plots and perform a linear regression analysis on the data for the years… 1958-1987 and 1988-2017. Compare the behavior of CO2 levels in the first half of the data set to the second half. If the rate of CO2 concentration(ppm)/year continues as it has in the 1988-2017 range, what would the CO2 concentration(ppm) be in 2040?\n",
    "\n",
    "Source: Scripps Institution of Oceanography\n",
    "\n",
    "Use the co2-mauna-loa.txt file from Moodle.\n",
    "\n",
    "For the Moodle quiz, there are a few questions related to the review topics, and then you'll submit a github link for your notebook. "
   ]
  },
  {
   "cell_type": "code",
   "execution_count": 70,
   "metadata": {},
   "outputs": [
    {
     "name": "stdout",
     "output_type": "stream",
     "text": [
      "[[1958.208  315.71 ]\n",
      " [1958.292  317.45 ]\n",
      " [1958.375  317.5  ]\n",
      " ...\n",
      " [2017.792  403.63 ]\n",
      " [2017.875  405.12 ]\n",
      " [2017.958  406.81 ]] \n",
      "\n",
      "357\n",
      "1987.958\n",
      "[1987.958  349.16 ]\n"
     ]
    }
   ],
   "source": [
    "import numpy as np\n",
    "bunk = \"co2-mauna-loa.txt\"\n",
    "data = np.genfromtxt(bunk,skip_header=2,usecols=(0,1))\n",
    "print(data,'\\n')\n",
    "\n",
    "##The jim variable is used to find the index for our year split between 87 and 88\n",
    "jim = 0\n",
    "while 1:\n",
    "    jim = jim + 1\n",
    "    if data[jim,0]>1988:\n",
    "        jim = jim - 1\n",
    "        break\n",
    "print (jim)\n",
    "\n",
    "index = jim\n",
    "length = len(data)\n",
    "\n",
    "print (data[jim,0])\n",
    "print(data[jim])\n",
    "\n",
    "#I want to select every row (:), but only those\n",
    "#whose second index is 0. This gives us the first column\n",
    "year1 = data[:358,1]\n",
    "\n",
    "#I want to select every row, but only the second thing in each\n",
    "#row, giving us our satellites data\n",
    "ppm1 = data[:358,0]\n",
    "\n",
    "#print ('years',year,'\\n')\n",
    "#print ('ppm',ppm)\n"
   ]
  },
  {
   "cell_type": "code",
   "execution_count": 75,
   "metadata": {},
   "outputs": [
    {
     "name": "stdout",
     "output_type": "stream",
     "text": [
      " Y-intercept -1991.4838928050985 \n",
      " Slope 1.1765016055461393\n"
     ]
    },
    {
     "data": {
      "text/plain": [
       "[<matplotlib.lines.Line2D at 0x2cfd8bcad00>]"
      ]
     },
     "execution_count": 75,
     "metadata": {},
     "output_type": "execute_result"
    },
    {
     "data": {
      "image/png": "[encoded data removed]",
      "text/plain": [
       "<Figure size 432x288 with 1 Axes>"
      ]
     },
     "metadata": {
      "needs_background": "light"
     },
     "output_type": "display_data"
    }
   ],
   "source": [
    "intercept, slope = np.polynomial.polynomial.polyfit(ppm1,year1,1)\n",
    "\n",
    "print(' Y-intercept',intercept,'\\n Slope',slope)\n",
    "\n",
    "#create best fit line's x and y points\n",
    "x = np.linspace(1958,1987)\n",
    "\n",
    "#best fit line\n",
    "y = slope*x + intercept\n",
    "\n",
    "\n",
    "plt.xlabel(\"year\")\n",
    "plt.ylabel(\"CO2 re-entering the atmosphere by ppm\")\n",
    "plt.title(\"Atmospheric CO2 readings by year 1958-1987\")\n",
    "plt.scatter(ppm1,year1,color=\"purple\")\n",
    "plt.plot(x,y)\n"
   ]
  },
  {
   "cell_type": "code",
   "execution_count": 90,
   "metadata": {},
   "outputs": [
    {
     "name": "stdout",
     "output_type": "stream",
     "text": [
      " Y-intercept -3423.7901896623894 \n",
      " Slope 1.8970008535247684\n"
     ]
    },
    {
     "data": {
      "text/plain": [
       "[<matplotlib.lines.Line2D at 0x2cfd8a263a0>]"
      ]
     },
     "execution_count": 90,
     "metadata": {},
     "output_type": "execute_result"
    },
    {
     "data": {
      "image/png": "[encoded data removed]",
      "text/plain": [
       "<Figure size 432x288 with 1 Axes>"
      ]
     },
     "metadata": {
      "needs_background": "light"
     },
     "output_type": "display_data"
    }
   ],
   "source": [
    "year2 = data[359:,1]\n",
    "ppm2 = data[359:,0]\n",
    "\n",
    "intercept, slope = np.polynomial.polynomial.polyfit(ppm2,year2,1)\n",
    "\n",
    "print(' Y-intercept',intercept,'\\n Slope',slope)\n",
    "\n",
    "#create best fit line's x and y points\n",
    "x = np.linspace(1985,2020)\n",
    "\n",
    "#best fit line\n",
    "y = slope*x + intercept\n",
    "\n",
    "\n",
    "plt.xlabel(\"year\")\n",
    "plt.ylabel(\"CO2 re-entering the atmosphere by ppm\")\n",
    "plt.title(\"Atmospheric CO2 readings by year 1988-2017\")\n",
    "plt.scatter(ppm2,year2,color=\"purple\")\n",
    "plt.plot(x,y)\n"
   ]
  },
  {
   "cell_type": "code",
   "execution_count": 97,
   "metadata": {},
   "outputs": [
    {
     "name": "stdout",
     "output_type": "stream",
     "text": [
      "CO2 concentration in 2040 should be \n",
      "approximately 446.0915515281381\n"
     ]
    }
   ],
   "source": [
    "#Assuming CO2 concentration/year continues to increase as in the 1988-2017 range\n",
    "print('CO2 concentration in 2040 should be \\napproximately', intercept+2040*slope)\n",
    "\n",
    "#print ((2040-2017)*slope+data([718,0])"
   ]
  },
  {
   "cell_type": "code",
   "execution_count": null,
   "metadata": {},
   "outputs": [],
   "source": []
  }
 ],
 "metadata": {
  "kernelspec": {
   "display_name": "Python 3",
   "language": "python",
   "name": "python3"
  },
  "language_info": {
   "codemirror_mode": {
    "name": "ipython",
    "version": 3
   },
   "file_extension": ".py",
   "mimetype": "text/x-python",
   "name": "python",
   "nbconvert_exporter": "python",
   "pygments_lexer": "ipython3",
   "version": "3.8.3"
  }
 },
 "nbformat": 4,
 "nbformat_minor": 4
}
