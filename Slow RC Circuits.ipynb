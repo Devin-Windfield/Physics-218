{
 "cells": [
  {
   "cell_type": "markdown",
   "metadata": {},
   "source": [
    "#  Capacitor Charge and Discharge Rate "
   ]
  },
  {
   "cell_type": "code",
   "execution_count": 4,
   "metadata": {},
   "outputs": [
    {
     "data": {
      "text/plain": [
       "Text(0.5, 1.0, 'Rate of Charge and Discharge for Capacitor')"
      ]
     },
     "execution_count": 4,
     "metadata": {},
     "output_type": "execute_result"
    },
    {
     "data": {
      "image/png": "[encoded data removed]",
      "text/plain": [
       "<Figure size 432x288 with 1 Axes>"
      ]
     },
     "metadata": {
      "needs_background": "light"
     },
     "output_type": "display_data"
    }
   ],
   "source": [
    "import numpy as np\n",
    "import matplotlib.pyplot as plt\n",
    "#Volts for discharging Capacitor\n",
    "v = [6.48,4.13,2.8,1.88,1.29,0.85,0.57,0.39,0.26,0.17,0.11,0.07,0.04]\n",
    "t = []\n",
    "for i in range(13):\n",
    "    t.append(10*i)\n",
    "plt.scatter(t,v)\n",
    "plt.plot(t,v)\n",
    "\n",
    "#Volts for charging Capacitor\n",
    "v = [0,2,3.34,4.23,4.84,5.26,5.53,5.73,5.86,5.95,6,6.04,6.07]\n",
    "\n",
    "plt.scatter(t,v)\n",
    "plt.plot(t,v)\n",
    "plt.xlabel('time (seconds)')\n",
    "plt.ylabel('volts')\n",
    "plt.title('Rate of Charge and Discharge for Capacitor')\n"
   ]
  },
  {
   "cell_type": "markdown",
   "metadata": {},
   "source": [
    "# Experiment Two"
   ]
  },
  {
   "cell_type": "code",
   "execution_count": 18,
   "metadata": {},
   "outputs": [
    {
     "name": "stdout",
     "output_type": "stream",
     "text": [
      "The calculated time to reach expected voltage discharging is \n",
      "         25.58 +/- 0.05 seconds\n",
      "The calculated time to reach expected voltage charging is \n",
      "         27.18 +/- 0.04 seconds\n",
      "\n",
      "\n",
      "The average of these two is: \n",
      "         26.38 +/- 0.06\n"
     ]
    }
   ],
   "source": [
    "import numpy as np \n",
    "import math\n",
    "\n",
    "def average(a):\n",
    "    k = 0\n",
    "    for i in a:\n",
    "        k += i\n",
    "    return(round(k/len(a),3))\n",
    "\n",
    "vd = [26,25.4,25.3,25.5,25.7]\n",
    "vc = [27.5,26.9,27.2,27.1,27.2]\n",
    "\n",
    "tau_vd = average(vd)\n",
    "tau_vc = average(vc)\n",
    "\n",
    "vd_error = np.std(vd)/math.sqrt(average(vd))\n",
    "vc_error = np.std(vc)/math.sqrt(average(vc))\n",
    "vavg_error = round(math.sqrt(vd_error**2+vc_error**2), 2)\n",
    "print('The calculated time to reach expected voltage discharging is \\n        ', tau_vd,'+/-', round(vd_error,2),'seconds')\n",
    "print('The calculated time to reach expected voltage charging is \\n        ', tau_vc,'+/-', round(vc_error,2),'seconds\\n\\n')\n",
    "print('The average of these two is: \\n        ', (tau_vd+tau_vc)/2, '+/-', vavg_error, ' seconds')\n",
    "\n"
   ]
  },
  {
   "cell_type": "markdown",
   "metadata": {},
   "source": [
    "# Direct Measurements"
   ]
  },
  {
   "cell_type": "code",
   "execution_count": 20,
   "metadata": {},
   "outputs": [
    {
     "name": "stdout",
     "output_type": "stream",
     "text": [
      "The time constant is equal to: \n",
      "         23.83 +/-  3.5 seconds\n"
     ]
    }
   ],
   "source": [
    "import math as m\n",
    "resistor = 507 * 10**3 #ohms\n",
    "err_resistor = resistor * 0.008 + 2e3\n",
    "capacitor = 47 * 10**-6 #farads\n",
    "err_capacitor = capacitor * 0.04 + 5e-6\n",
    "\n",
    "tau = round(resistor * capacitor, 2)\n",
    "err_tau = round(tau*m.sqrt((err_resistor/resistor)**2+(err_capacitor/capacitor)**2), 2)\n",
    "\n",
    "print('The time constant is equal to: \\n        ', tau, '+/- ', err_tau, 'seconds')"
   ]
  },
  {
   "cell_type": "code",
   "execution_count": null,
   "metadata": {},
   "outputs": [],
   "source": []
  }
 ],
 "metadata": {
  "kernelspec": {
   "display_name": "Python 3",
   "language": "python",
   "name": "python3"
  },
  "language_info": {
   "codemirror_mode": {
    "name": "ipython",
    "version": 3
   },
   "file_extension": ".py",
   "mimetype": "text/x-python",
   "name": "python",
   "nbconvert_exporter": "python",
   "pygments_lexer": "ipython3",
   "version": "3.8.3"
  }
 },
 "nbformat": 4,
 "nbformat_minor": 4
}
